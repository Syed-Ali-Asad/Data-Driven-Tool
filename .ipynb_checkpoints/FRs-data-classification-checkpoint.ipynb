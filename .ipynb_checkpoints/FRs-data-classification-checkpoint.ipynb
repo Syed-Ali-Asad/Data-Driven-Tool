{
 "cells": [
  {
   "cell_type": "code",
   "execution_count": 77,
   "metadata": {},
   "outputs": [],
   "source": [
    "import pandas as pd"
   ]
  },
  {
   "cell_type": "code",
   "execution_count": 78,
   "metadata": {},
   "outputs": [],
   "source": [
    "data = pd.read_csv('FRs.csv')"
   ]
  },
  {
   "cell_type": "code",
   "execution_count": 79,
   "metadata": {},
   "outputs": [
    {
     "data": {
      "text/html": [
       "<div>\n",
       "<style scoped>\n",
       "    .dataframe tbody tr th:only-of-type {\n",
       "        vertical-align: middle;\n",
       "    }\n",
       "\n",
       "    .dataframe tbody tr th {\n",
       "        vertical-align: top;\n",
       "    }\n",
       "\n",
       "    .dataframe thead th {\n",
       "        text-align: right;\n",
       "    }\n",
       "</style>\n",
       "<table border=\"1\" class=\"dataframe\">\n",
       "  <thead>\n",
       "    <tr style=\"text-align: right;\">\n",
       "      <th></th>\n",
       "      <th>FRs</th>\n",
       "      <th>Classes</th>\n",
       "    </tr>\n",
       "  </thead>\n",
       "  <tbody>\n",
       "    <tr>\n",
       "      <th>0</th>\n",
       "      <td>Admin clients can login through their pre-assi...</td>\n",
       "      <td>Event-Driven</td>\n",
       "    </tr>\n",
       "    <tr>\n",
       "      <th>1</th>\n",
       "      <td>Extra admin clients can either login using the...</td>\n",
       "      <td>Event-Driven</td>\n",
       "    </tr>\n",
       "    <tr>\n",
       "      <th>2</th>\n",
       "      <td>User will be kept logged in if they opt to sta...</td>\n",
       "      <td>State-Driven</td>\n",
       "    </tr>\n",
       "    <tr>\n",
       "      <th>3</th>\n",
       "      <td>Clients will be provided associated access to ...</td>\n",
       "      <td>Event-Driven</td>\n",
       "    </tr>\n",
       "    <tr>\n",
       "      <th>4</th>\n",
       "      <td>An error will be generated prompting client to...</td>\n",
       "      <td>State-Driven</td>\n",
       "    </tr>\n",
       "  </tbody>\n",
       "</table>\n",
       "</div>"
      ],
      "text/plain": [
       "                                                 FRs       Classes\n",
       "0  Admin clients can login through their pre-assi...  Event-Driven\n",
       "1  Extra admin clients can either login using the...  Event-Driven\n",
       "2  User will be kept logged in if they opt to sta...  State-Driven\n",
       "3  Clients will be provided associated access to ...  Event-Driven\n",
       "4  An error will be generated prompting client to...  State-Driven"
      ]
     },
     "execution_count": 79,
     "metadata": {},
     "output_type": "execute_result"
    }
   ],
   "source": [
    "data.head()"
   ]
  },
  {
   "cell_type": "code",
   "execution_count": 80,
   "metadata": {},
   "outputs": [
    {
     "data": {
      "text/plain": [
       "68"
      ]
     },
     "execution_count": 80,
     "metadata": {},
     "output_type": "execute_result"
    }
   ],
   "source": [
    "len(data)"
   ]
  },
  {
   "cell_type": "code",
   "execution_count": 81,
   "metadata": {},
   "outputs": [
    {
     "data": {
      "text/plain": [
       "array(['Event-Driven', 'State-Driven', 'Ubiquitous', 'Unwanted Behaviour'],\n",
       "      dtype=object)"
      ]
     },
     "execution_count": 81,
     "metadata": {},
     "output_type": "execute_result"
    }
   ],
   "source": [
    "data.Classes.unique()"
   ]
  },
  {
   "cell_type": "code",
   "execution_count": 82,
   "metadata": {},
   "outputs": [
    {
     "data": {
      "text/plain": [
       "FRs        0\n",
       "Classes    0\n",
       "dtype: int64"
      ]
     },
     "execution_count": 82,
     "metadata": {},
     "output_type": "execute_result"
    }
   ],
   "source": [
    "#Checking for the null values.\n",
    "data.isnull().sum()"
   ]
  },
  {
   "cell_type": "code",
   "execution_count": 158,
   "metadata": {},
   "outputs": [
    {
     "name": "stderr",
     "output_type": "stream",
     "text": [
      "[nltk_data] Downloading package stopwords to C:\\Users\\Syed Ali\n",
      "[nltk_data]     Asad\\AppData\\Roaming\\nltk_data...\n",
      "[nltk_data]   Package stopwords is already up-to-date!\n"
     ]
    }
   ],
   "source": [
    "#Data Preprocessing\n",
    "import re\n",
    "import nltk\n",
    "nltk.download('stopwords')\n",
    "from nltk.stem.porter import PorterStemmer\n",
    "from nltk.corpus import stopwords\n",
    "\n",
    "corpus = []\n",
    "for i in range(0,68):\n",
    "    expression = re.sub('[^a-zA-Z]',' ',data['FRs'][i])\n",
    "    expression = re.sub(r'\\s+[a-zA-Z]\\s+', ' ',data['FRs'][i])\n",
    "    expression = re.sub(r'\\^[a-zA-Z]\\s+', ' ',data['FRs'][i])\n",
    "    expression = expression.lower()\n",
    "    expression = expression.split()\n",
    "\n",
    "    ps = PorterStemmer()\n",
    "    expression = [ps.stem(word) for word in expression if not word in set(stopwords.words('english'))]\n",
    "    expression = ' '.join(expression)\n",
    "    corpus.append(expression)"
   ]
  },
  {
   "cell_type": "code",
   "execution_count": 159,
   "metadata": {},
   "outputs": [
    {
     "name": "stdout",
     "output_type": "stream",
     "text": [
      "['admin client login pre-assign usernam password.', 'extra admin client either login use manual regist credenti social account (gmail).', 'user kept log opt stay sing time login in.', 'client provid associ access account log in.', 'error gener prompt client correct credenti case invalid input log in.', 'extra admin client get regist email addresses.', 'extra admin client provid follow inform order register: email, password, full name, profil pictur (optional, (optional), address (optional).', 'client? account creat success submiss information.', 'error gener prompt client correct inform case invalid input sign up.', 'client? email verifi sign up.', 'client abl chang password profile.', 'client ask old password verification.', 'client ask provid new password confirm old password.', 'client? password updat success submiss new password.', 'case invalid new password, error gener user.', 'notif sent user via email sm chang password.', 'client request link reset password forgotten password.', 'client receiv link mailboxes.', 'receiv link use set new password.', 'user log instanc recov password.', 'client abl view profil inform uploaded.', 'client abl modifi profil person it.', 'inform updat user valid updated.', 'profil pictur updat user valid updated.', 'messag error display case invalid data submission.', 'consum vendor client abl delet profiles.', 'consum vendor client ask password confirm delet profile.', 'consum vendor client? profil kept deactiv 30 day deletion.', 'consum vendor client abl recov delet profil 30 day deactivation.', 'consum vendor client abl deactiv profiles.', 'consum vendor client ask password confirm deactiv profile.', 'error gener case wrong password.', 'case correct password, client? profil deactivated.', 'vendor client abl post ad log vendor account.', 'web applic allow vendor client publish paid unpaid ads.', 'regist verifi consum client abl give feedback ads.', 'regist verifi client abl rate ads. rate feedback ads.', 'vendor client abl view publish ad profil ad section.', 'vendor client abl updat publish ad profil ad section.', 'log consum client abl send messag vendor client acquir inform ads.', 'messag would sent via email.', 'consum client abl view save ad profile.', 'vendor client abl delet publish ad profile.', 'user abl perform basic search ad basi categori (hotel hall, banquet hall, farmhouse, marquee) venu name.', 'user abl perform advanc search ad basi categori (hotel hall, banquet hall, farmhouse, marquee), citi price range.', 'client provid search suggest fill field.', 'client provid quick search link cities, categori price ranges.', 'client? search criteria don?t produc search result error messag display user.', 'popular ad consum client? area display land page.', 'featur ad display consum client lade page.', 'system provid registr page user.', 'user must verifi use login module.', 'user search differ book he/sh wants.', 'user view complet detail book.', 'user rent books.', 'user sell books.', 'user add books.', 'user delet books.', 'applic shall enabl driver updat his/her pictur', 'applic shall enabl driver updat /her citi', 'applic shall enabl driver updat his/her contact number', 'driver send invit friend use his/her valid link', 'driver get point someon signup use /her valid link', 'system shall display messag ?invalid credentials?.', 'blockchain dashboard abl see busi onlin user task', 'email report admin page confirm task', 'user internet connect cellular device.', 'user must give access imag cellular devic order creat ad.']\n"
     ]
    }
   ],
   "source": [
    "print(corpus)"
   ]
  },
  {
   "cell_type": "code",
   "execution_count": 160,
   "metadata": {},
   "outputs": [],
   "source": [
    "from sklearn.model_selection import train_test_split\n",
    "X_train, X_test, y_train, y_test = train_test_split(corpus,data['Classes'],test_size = 0.2,random_state = 0)"
   ]
  },
  {
   "cell_type": "code",
   "execution_count": 161,
   "metadata": {},
   "outputs": [],
   "source": [
    "from sklearn.feature_extraction.text import CountVectorizer\n",
    "cv = CountVectorizer(max_features = 100)\n",
    "X_train_counts  = cv.fit_transform(X_train)\n",
    "# y = data.iloc[:,1].values\n",
    "# print(X)"
   ]
  },
  {
   "cell_type": "markdown",
   "metadata": {},
   "source": [
    "# Here we are applying different classifiers to get the one with best accuracy."
   ]
  },
  {
   "cell_type": "markdown",
   "metadata": {},
   "source": [
    "# KNN Classifier"
   ]
  },
  {
   "cell_type": "code",
   "execution_count": 162,
   "metadata": {},
   "outputs": [],
   "source": [
    "from sklearn.neighbors import KNeighborsClassifier\n",
    "classifier = KNeighborsClassifier()\n",
    "clf = classifier.fit(X_train_counts,y_train)"
   ]
  },
  {
   "cell_type": "code",
   "execution_count": 163,
   "metadata": {},
   "outputs": [
    {
     "data": {
      "text/plain": [
       "array(['Ubiquitous', 'Ubiquitous', 'Event-Driven', 'Ubiquitous',\n",
       "       'Unwanted Behaviour', 'Event-Driven', 'Event-Driven',\n",
       "       'Event-Driven', 'Ubiquitous', 'Event-Driven', 'Event-Driven',\n",
       "       'Ubiquitous', 'Ubiquitous', 'Event-Driven'], dtype=object)"
      ]
     },
     "execution_count": 163,
     "metadata": {},
     "output_type": "execute_result"
    }
   ],
   "source": [
    "y_pred = clf.predict(cv.transform(X_test))\n",
    "y_pred"
   ]
  },
  {
   "cell_type": "code",
   "execution_count": 164,
   "metadata": {},
   "outputs": [
    {
     "name": "stdout",
     "output_type": "stream",
     "text": [
      "                    precision    recall  f1-score   support\n",
      "\n",
      "      Event-Driven       1.00      0.88      0.93         8\n",
      "      State-Driven       0.00      0.00      0.00         1\n",
      "        Ubiquitous       0.67      1.00      0.80         4\n",
      "Unwanted Behaviour       1.00      1.00      1.00         1\n",
      "\n",
      "          accuracy                           0.86        14\n",
      "         macro avg       0.67      0.72      0.68        14\n",
      "      weighted avg       0.83      0.86      0.83        14\n",
      "\n"
     ]
    },
    {
     "name": "stderr",
     "output_type": "stream",
     "text": [
      "E:\\Anaconda_Python\\lib\\site-packages\\sklearn\\metrics\\_classification.py:1221: UndefinedMetricWarning: Precision and F-score are ill-defined and being set to 0.0 in labels with no predicted samples. Use `zero_division` parameter to control this behavior.\n",
      "  _warn_prf(average, modifier, msg_start, len(result))\n"
     ]
    }
   ],
   "source": [
    "from sklearn import metrics\n",
    "print(metrics.classification_report(y_test,y_pred))"
   ]
  },
  {
   "cell_type": "code",
   "execution_count": 165,
   "metadata": {},
   "outputs": [
    {
     "name": "stdout",
     "output_type": "stream",
     "text": [
      "Model Accuracy :  85.71428571428571\n"
     ]
    }
   ],
   "source": [
    "print(\"Model Accuracy : \", metrics.accuracy_score(y_test,y_pred)*100)"
   ]
  },
  {
   "cell_type": "code",
   "execution_count": 166,
   "metadata": {},
   "outputs": [
    {
     "data": {
      "text/plain": [
       "48            Ubiquitous\n",
       "27          Event-Driven\n",
       "32          Event-Driven\n",
       "22            Ubiquitous\n",
       "31    Unwanted Behaviour\n",
       "45          Event-Driven\n",
       "30          Event-Driven\n",
       "60          Event-Driven\n",
       "55            Ubiquitous\n",
       "62          Event-Driven\n",
       "28          Event-Driven\n",
       "41            Ubiquitous\n",
       "67          State-Driven\n",
       "58          Event-Driven\n",
       "Name: Classes, dtype: object"
      ]
     },
     "execution_count": 166,
     "metadata": {},
     "output_type": "execute_result"
    }
   ],
   "source": [
    "y_test"
   ]
  },
  {
   "cell_type": "code",
   "execution_count": 167,
   "metadata": {},
   "outputs": [],
   "source": [
    "s = 'Admin clients can login through their pre-assigned username and password'\n",
    "s1 = 'User will be kept logged'"
   ]
  },
  {
   "cell_type": "code",
   "execution_count": 168,
   "metadata": {},
   "outputs": [
    {
     "data": {
      "text/plain": [
       "<1x100 sparse matrix of type '<class 'numpy.int64'>'\n",
       "\twith 1 stored elements in Compressed Sparse Row format>"
      ]
     },
     "execution_count": 168,
     "metadata": {},
     "output_type": "execute_result"
    }
   ],
   "source": [
    "\n",
    "new_test = cv.transform([s1])\n",
    "new_test"
   ]
  },
  {
   "cell_type": "code",
   "execution_count": 169,
   "metadata": {},
   "outputs": [],
   "source": [
    "result = clf.predict(new_test)"
   ]
  },
  {
   "cell_type": "code",
   "execution_count": 170,
   "metadata": {},
   "outputs": [
    {
     "name": "stdout",
     "output_type": "stream",
     "text": [
      "['Ubiquitous']\n"
     ]
    }
   ],
   "source": [
    "print(result)"
   ]
  },
  {
   "cell_type": "markdown",
   "metadata": {},
   "source": [
    "# Naive_Bayes Classifier"
   ]
  },
  {
   "cell_type": "code",
   "execution_count": 171,
   "metadata": {},
   "outputs": [],
   "source": [
    "from sklearn.naive_bayes import MultinomialNB\n",
    "classifier = MultinomialNB()\n",
    "clf = classifier.fit(X_train_counts,y_train)"
   ]
  },
  {
   "cell_type": "code",
   "execution_count": 172,
   "metadata": {},
   "outputs": [],
   "source": [
    "y_pred = clf.predict(cv.transform(X_test))"
   ]
  },
  {
   "cell_type": "code",
   "execution_count": 173,
   "metadata": {},
   "outputs": [
    {
     "name": "stdout",
     "output_type": "stream",
     "text": [
      "                    precision    recall  f1-score   support\n",
      "\n",
      "      Event-Driven       0.78      0.88      0.82         8\n",
      "      State-Driven       0.00      0.00      0.00         1\n",
      "        Ubiquitous       0.75      0.75      0.75         4\n",
      "Unwanted Behaviour       1.00      1.00      1.00         1\n",
      "\n",
      "          accuracy                           0.79        14\n",
      "         macro avg       0.63      0.66      0.64        14\n",
      "      weighted avg       0.73      0.79      0.76        14\n",
      "\n"
     ]
    },
    {
     "name": "stderr",
     "output_type": "stream",
     "text": [
      "E:\\Anaconda_Python\\lib\\site-packages\\sklearn\\metrics\\_classification.py:1221: UndefinedMetricWarning: Precision and F-score are ill-defined and being set to 0.0 in labels with no predicted samples. Use `zero_division` parameter to control this behavior.\n",
      "  _warn_prf(average, modifier, msg_start, len(result))\n"
     ]
    }
   ],
   "source": [
    "print(metrics.classification_report(y_test,y_pred))"
   ]
  },
  {
   "cell_type": "code",
   "execution_count": 174,
   "metadata": {},
   "outputs": [
    {
     "name": "stdout",
     "output_type": "stream",
     "text": [
      "Model Accuracy :  78.57142857142857\n"
     ]
    }
   ],
   "source": [
    "print(\"Model Accuracy : \", metrics.accuracy_score(y_test,y_pred)*100)"
   ]
  },
  {
   "cell_type": "markdown",
   "metadata": {},
   "source": [
    "# Decision Tree Classifier"
   ]
  },
  {
   "cell_type": "code",
   "execution_count": 175,
   "metadata": {},
   "outputs": [],
   "source": [
    "from sklearn import tree\n",
    "clf = tree.DecisionTreeClassifier()\n",
    "clf = clf.fit(X_train_counts,y_train)"
   ]
  },
  {
   "cell_type": "code",
   "execution_count": 176,
   "metadata": {},
   "outputs": [],
   "source": [
    "y_pred = clf.predict(cv.transform(X_test))"
   ]
  },
  {
   "cell_type": "code",
   "execution_count": 177,
   "metadata": {},
   "outputs": [
    {
     "name": "stdout",
     "output_type": "stream",
     "text": [
      "                    precision    recall  f1-score   support\n",
      "\n",
      "      Event-Driven       0.80      0.50      0.62         8\n",
      "      State-Driven       1.00      1.00      1.00         1\n",
      "        Ubiquitous       0.43      0.75      0.55         4\n",
      "Unwanted Behaviour       1.00      1.00      1.00         1\n",
      "\n",
      "          accuracy                           0.64        14\n",
      "         macro avg       0.81      0.81      0.79        14\n",
      "      weighted avg       0.72      0.64      0.65        14\n",
      "\n"
     ]
    }
   ],
   "source": [
    "print(metrics.classification_report(y_test,y_pred))"
   ]
  },
  {
   "cell_type": "code",
   "execution_count": 178,
   "metadata": {},
   "outputs": [
    {
     "name": "stdout",
     "output_type": "stream",
     "text": [
      "Model Accuracy :  64.28571428571429\n"
     ]
    }
   ],
   "source": [
    "print(\"Model Accuracy : \", metrics.accuracy_score(y_test,y_pred)*100)"
   ]
  },
  {
   "cell_type": "markdown",
   "metadata": {},
   "source": [
    "# Support Vector Machine Classifier"
   ]
  },
  {
   "cell_type": "code",
   "execution_count": 179,
   "metadata": {},
   "outputs": [],
   "source": [
    "from sklearn.svm import SVC\n",
    "classifier = SVC()\n",
    "clf = classifier.fit(X_train_counts,y_train)"
   ]
  },
  {
   "cell_type": "code",
   "execution_count": 180,
   "metadata": {},
   "outputs": [],
   "source": [
    "y_pred = clf.predict(cv.transform(X_test))"
   ]
  },
  {
   "cell_type": "code",
   "execution_count": 181,
   "metadata": {},
   "outputs": [
    {
     "name": "stdout",
     "output_type": "stream",
     "text": [
      "                    precision    recall  f1-score   support\n",
      "\n",
      "      Event-Driven       0.80      1.00      0.89         8\n",
      "      State-Driven       0.00      0.00      0.00         1\n",
      "        Ubiquitous       0.75      0.75      0.75         4\n",
      "Unwanted Behaviour       0.00      0.00      0.00         1\n",
      "\n",
      "          accuracy                           0.79        14\n",
      "         macro avg       0.39      0.44      0.41        14\n",
      "      weighted avg       0.67      0.79      0.72        14\n",
      "\n"
     ]
    },
    {
     "name": "stderr",
     "output_type": "stream",
     "text": [
      "E:\\Anaconda_Python\\lib\\site-packages\\sklearn\\metrics\\_classification.py:1221: UndefinedMetricWarning: Precision and F-score are ill-defined and being set to 0.0 in labels with no predicted samples. Use `zero_division` parameter to control this behavior.\n",
      "  _warn_prf(average, modifier, msg_start, len(result))\n"
     ]
    }
   ],
   "source": [
    "print(metrics.classification_report(y_test,y_pred))"
   ]
  },
  {
   "cell_type": "code",
   "execution_count": 182,
   "metadata": {},
   "outputs": [
    {
     "name": "stdout",
     "output_type": "stream",
     "text": [
      "Model Accuracy :  78.57142857142857\n"
     ]
    }
   ],
   "source": [
    "print(\"Model Accuracy : \", metrics.accuracy_score(y_test,y_pred)*100)"
   ]
  },
  {
   "cell_type": "markdown",
   "metadata": {},
   "source": [
    "# Linear Model Classifier"
   ]
  },
  {
   "cell_type": "code",
   "execution_count": 183,
   "metadata": {},
   "outputs": [],
   "source": [
    "from sklearn.linear_model import LogisticRegression\n",
    "classifier = LogisticRegression()\n",
    "clf = classifier.fit(X_train_counts,y_train)"
   ]
  },
  {
   "cell_type": "code",
   "execution_count": 184,
   "metadata": {},
   "outputs": [],
   "source": [
    "y_pred = clf.predict(cv.transform(X_test))"
   ]
  },
  {
   "cell_type": "code",
   "execution_count": 185,
   "metadata": {},
   "outputs": [
    {
     "name": "stdout",
     "output_type": "stream",
     "text": [
      "                    precision    recall  f1-score   support\n",
      "\n",
      "      Event-Driven       0.88      0.88      0.88         8\n",
      "      State-Driven       0.00      0.00      0.00         1\n",
      "        Ubiquitous       0.67      1.00      0.80         4\n",
      "Unwanted Behaviour       0.00      0.00      0.00         1\n",
      "\n",
      "          accuracy                           0.79        14\n",
      "         macro avg       0.39      0.47      0.42        14\n",
      "      weighted avg       0.69      0.79      0.73        14\n",
      "\n"
     ]
    },
    {
     "name": "stderr",
     "output_type": "stream",
     "text": [
      "E:\\Anaconda_Python\\lib\\site-packages\\sklearn\\metrics\\_classification.py:1221: UndefinedMetricWarning: Precision and F-score are ill-defined and being set to 0.0 in labels with no predicted samples. Use `zero_division` parameter to control this behavior.\n",
      "  _warn_prf(average, modifier, msg_start, len(result))\n"
     ]
    }
   ],
   "source": [
    "print(metrics.classification_report(y_test,y_pred))"
   ]
  },
  {
   "cell_type": "code",
   "execution_count": 186,
   "metadata": {},
   "outputs": [
    {
     "name": "stdout",
     "output_type": "stream",
     "text": [
      "Model Accuracy :  78.57142857142857\n"
     ]
    }
   ],
   "source": [
    "print(\"Model Accuracy : \", metrics.accuracy_score(y_test,y_pred)*100)"
   ]
  },
  {
   "cell_type": "markdown",
   "metadata": {},
   "source": [
    "# Summary of Accuracy Rates"
   ]
  },
  {
   "cell_type": "code",
   "execution_count": null,
   "metadata": {},
   "outputs": [],
   "source": [
    "Naive_bayes = 78.57%\n",
    "K-NearestNeighbor = 85.71%\n",
    "SVM =  78.57%\n",
    "Decision Tree = 64.28%\n",
    "linear_model = 78.57%"
   ]
  }
 ],
 "metadata": {
  "kernelspec": {
   "display_name": "Python 3",
   "language": "python",
   "name": "python3"
  },
  "language_info": {
   "codemirror_mode": {
    "name": "ipython",
    "version": 3
   },
   "file_extension": ".py",
   "mimetype": "text/x-python",
   "name": "python",
   "nbconvert_exporter": "python",
   "pygments_lexer": "ipython3",
   "version": "3.8.5"
  }
 },
 "nbformat": 4,
 "nbformat_minor": 4
}
