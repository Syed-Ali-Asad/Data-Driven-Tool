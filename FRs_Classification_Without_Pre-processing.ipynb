{
 "cells": [
  {
   "cell_type": "code",
   "execution_count": 1,
   "metadata": {},
   "outputs": [],
   "source": [
    "import pandas as pd"
   ]
  },
  {
   "cell_type": "code",
   "execution_count": 2,
   "metadata": {},
   "outputs": [],
   "source": [
    "data = pd.read_csv('FRs.csv')"
   ]
  },
  {
   "cell_type": "code",
   "execution_count": 3,
   "metadata": {},
   "outputs": [
    {
     "data": {
      "text/html": [
       "<div>\n",
       "<style scoped>\n",
       "    .dataframe tbody tr th:only-of-type {\n",
       "        vertical-align: middle;\n",
       "    }\n",
       "\n",
       "    .dataframe tbody tr th {\n",
       "        vertical-align: top;\n",
       "    }\n",
       "\n",
       "    .dataframe thead th {\n",
       "        text-align: right;\n",
       "    }\n",
       "</style>\n",
       "<table border=\"1\" class=\"dataframe\">\n",
       "  <thead>\n",
       "    <tr style=\"text-align: right;\">\n",
       "      <th></th>\n",
       "      <th>FRs</th>\n",
       "      <th>Classes</th>\n",
       "    </tr>\n",
       "  </thead>\n",
       "  <tbody>\n",
       "    <tr>\n",
       "      <th>0</th>\n",
       "      <td>Admin clients can login through their pre-assi...</td>\n",
       "      <td>Event-Driven</td>\n",
       "    </tr>\n",
       "    <tr>\n",
       "      <th>1</th>\n",
       "      <td>Extra admin clients can either login using the...</td>\n",
       "      <td>Event-Driven</td>\n",
       "    </tr>\n",
       "    <tr>\n",
       "      <th>2</th>\n",
       "      <td>User will be kept logged in if they opt to sta...</td>\n",
       "      <td>State-Driven</td>\n",
       "    </tr>\n",
       "    <tr>\n",
       "      <th>3</th>\n",
       "      <td>Clients will be provided associated access to ...</td>\n",
       "      <td>Event-Driven</td>\n",
       "    </tr>\n",
       "    <tr>\n",
       "      <th>4</th>\n",
       "      <td>An error will be generated prompting client to...</td>\n",
       "      <td>State-Driven</td>\n",
       "    </tr>\n",
       "  </tbody>\n",
       "</table>\n",
       "</div>"
      ],
      "text/plain": [
       "                                                 FRs       Classes\n",
       "0  Admin clients can login through their pre-assi...  Event-Driven\n",
       "1  Extra admin clients can either login using the...  Event-Driven\n",
       "2  User will be kept logged in if they opt to sta...  State-Driven\n",
       "3  Clients will be provided associated access to ...  Event-Driven\n",
       "4  An error will be generated prompting client to...  State-Driven"
      ]
     },
     "execution_count": 3,
     "metadata": {},
     "output_type": "execute_result"
    }
   ],
   "source": [
    "data.head()"
   ]
  },
  {
   "cell_type": "code",
   "execution_count": 4,
   "metadata": {},
   "outputs": [
    {
     "data": {
      "text/plain": [
       "68"
      ]
     },
     "execution_count": 4,
     "metadata": {},
     "output_type": "execute_result"
    }
   ],
   "source": [
    "len(data)"
   ]
  },
  {
   "cell_type": "code",
   "execution_count": 5,
   "metadata": {},
   "outputs": [
    {
     "data": {
      "text/plain": [
       "FRs        0\n",
       "Classes    0\n",
       "dtype: int64"
      ]
     },
     "execution_count": 5,
     "metadata": {},
     "output_type": "execute_result"
    }
   ],
   "source": [
    "#Checking for the null values.\n",
    "data.isnull().sum()"
   ]
  },
  {
   "cell_type": "code",
   "execution_count": 6,
   "metadata": {},
   "outputs": [],
   "source": [
    "corpus = []\n",
    "for i in range(0,68):\n",
    "    expression = data['FRs'][i]\n",
    "    corpus.append(expression)"
   ]
  },
  {
   "cell_type": "code",
   "execution_count": 7,
   "metadata": {},
   "outputs": [
    {
     "name": "stdout",
     "output_type": "stream",
     "text": [
      "['Admin clients can login through their pre-assigned username and password.', 'Extra admin clients can either login using their manually registered credentials or social accounts (Gmail).', 'User will be kept logged in if they opt to stay singed in at the time of login in.', 'Clients will be provided associated access to their accounts after logging in.', 'An error will be generated prompting client to correct credentials in case of invalid input while logging in.', 'Extra admin clients can get themselves registered against their email addresses.', 'Extra admin clients have to provide following information in order to register: Email, Password, Full Name, Profile Picture (Optional, About Me (Optional), Address (Optional).', 'Client?s account will be created after successful submission of information.', 'An error will be generated prompting client to correct information in case of invalid input while signing up.', 'Client?s email will be verified after signing up.', 'Clients will be able to change password from their profile.', 'Clients will be asked for old password for verification.', 'Clients will be asked to provide new password after confirming their old password.', 'Client?s password will be updated after successful submission of new password.', 'In case of invalid new password, an error will be generated to the user.', 'A notification will be sent to user via email and SMS after changing password.', 'Clients can request a link to reset their password if they have forgotten their password.', 'Clients will receive a link in their mailboxes.', 'The received link will be used to set a new password.', 'User will be logged out from all other instances after recovering password.', 'Clients will be able to view their profile information they have Uploaded.', 'Clients will be able to modify their profile to personalize it.', 'Information updated by the user will be validated before being updated.', 'Profile picture updated by the user will be validated before being updated.', 'Message errors will be displayed in case of invalid data submission.', 'Consumer and vendor clients will be able to delete their profiles.', 'Consumer and vendor clients will be asked for password confirmation before deleting their profile.', 'Consumer and vendor client?s profiles will be kept deactivated for 30 days before deletion.', 'Consumer and vendor clients will be able to recover deleted profiles with 30 days of deactivation.', 'Consumer and vendor clients will be able to deactivate their profiles.', 'Consumer and vendor clients will be asked for password confirmation before deactivating their profile.', 'An error will be generated in case of wrong password.', 'In case of correct password, client?s profile will be deactivated.', 'Vendor clients will be able to post an ad after logging in with a vendor account.', 'The web application will allow vendor clients to publish paid or unpaid ads.', 'Registered and verified consumer clients will be able to give feedback for the ads.', 'Registered and verified clients will be able to rate ads. Rating and feedback on ads.', 'Vendor clients will be able to view their published ads in their profiles my ads section.', 'Vendor clients will be able to update their published ads from their profiles my ads section.', 'Logged In consumer clients will be able to send messages to vendor clients to acquire further information about the ads.', 'Message would be sent via email.', 'Consumer clients will be able to view the saved ads against their profile.', 'Vendor clients will be able to delete their published ads from their profile.', 'Users will be able to perform basic search for ads on the basis of categories (Hotel Hall, Banquet Hall, Farmhouse, and Marquee) and venue name.', 'Users will be able to perform advanced searches for ads on the basis of categories (Hotel Hall, Banquet Hall, Farmhouse, and Marquee), cities and price range.', 'Clients will be provided with search suggestions while filling in field.', 'Clients will be provided with quick search links for cities, categories and price ranges.', 'If client?s search criteria don?t produce any search result and error message is displayed to the user.', 'Popular ads of consumer client?s area will be displayed on the landing page.', 'Featured ads will be displayed to the consumer client on the lading page.', 'The system should provide registration page for the user.', 'User must be verified using login module.', 'User can search for different books he/she wants.', 'User can view complete details of the book.', 'User can rent books.', 'User can sell books.', 'User can add books.', 'User can delete books.', 'The application shall enable the driver to update his/her picture', 'The application shall enable the driver to update his /her City', 'The application shall enable the driver to update his/her Contact number', 'The driver can send an invitation to a friend using his/her valid link', 'The driver will get points if someone signup using his /her valid link', 'If not then the system shall display a message ?invalid credentials?.', 'Through blockchain dashboard we will be able to see busy and online users and all tasks', 'Email report to admin pages confirmation a task', 'User should have an internet connection for their cellular device.', 'User must give access to images of his cellular device in order to create an Ad.']\n"
     ]
    }
   ],
   "source": [
    "print(corpus)"
   ]
  },
  {
   "cell_type": "code",
   "execution_count": 8,
   "metadata": {},
   "outputs": [],
   "source": [
    "from sklearn.model_selection import train_test_split\n",
    "X_train, X_test, y_train, y_test = train_test_split(corpus,data['Classes'],test_size = 0.2,random_state = 0)"
   ]
  },
  {
   "cell_type": "code",
   "execution_count": 9,
   "metadata": {},
   "outputs": [],
   "source": [
    "from sklearn.feature_extraction.text import CountVectorizer\n",
    "cv = CountVectorizer(max_features = 100)\n",
    "X_train_counts  = cv.fit_transform(X_train)"
   ]
  },
  {
   "cell_type": "markdown",
   "metadata": {},
   "source": [
    "# KNN Classifier"
   ]
  },
  {
   "cell_type": "code",
   "execution_count": 10,
   "metadata": {},
   "outputs": [],
   "source": [
    "from sklearn.neighbors import KNeighborsClassifier\n",
    "classifier = KNeighborsClassifier()\n",
    "clf = classifier.fit(X_train_counts,y_train)"
   ]
  },
  {
   "cell_type": "code",
   "execution_count": 11,
   "metadata": {},
   "outputs": [],
   "source": [
    "y_pred = clf.predict(cv.transform(X_test))"
   ]
  },
  {
   "cell_type": "code",
   "execution_count": 12,
   "metadata": {},
   "outputs": [
    {
     "name": "stdout",
     "output_type": "stream",
     "text": [
      "                    precision    recall  f1-score   support\n",
      "\n",
      "      Event-Driven       0.75      0.75      0.75         8\n",
      "      State-Driven       0.00      0.00      0.00         1\n",
      "        Ubiquitous       0.50      0.75      0.60         4\n",
      "Unwanted Behaviour       0.00      0.00      0.00         1\n",
      "\n",
      "          accuracy                           0.64        14\n",
      "         macro avg       0.31      0.38      0.34        14\n",
      "      weighted avg       0.57      0.64      0.60        14\n",
      "\n"
     ]
    },
    {
     "name": "stderr",
     "output_type": "stream",
     "text": [
      "E:\\Anaconda_Python\\lib\\site-packages\\sklearn\\metrics\\_classification.py:1221: UndefinedMetricWarning: Precision and F-score are ill-defined and being set to 0.0 in labels with no predicted samples. Use `zero_division` parameter to control this behavior.\n",
      "  _warn_prf(average, modifier, msg_start, len(result))\n"
     ]
    }
   ],
   "source": [
    "from sklearn import metrics\n",
    "print(metrics.classification_report(y_test,y_pred))"
   ]
  },
  {
   "cell_type": "code",
   "execution_count": 13,
   "metadata": {},
   "outputs": [
    {
     "name": "stdout",
     "output_type": "stream",
     "text": [
      "Model Accuracy :  64.28571428571429\n"
     ]
    }
   ],
   "source": [
    "print(\"Model Accuracy : \", metrics.accuracy_score(y_test,y_pred)*100)"
   ]
  },
  {
   "cell_type": "markdown",
   "metadata": {},
   "source": [
    "# Naive_Bayes Classifier"
   ]
  },
  {
   "cell_type": "code",
   "execution_count": 14,
   "metadata": {},
   "outputs": [],
   "source": [
    "from sklearn.naive_bayes import MultinomialNB\n",
    "classifier = MultinomialNB()\n",
    "clf = classifier.fit(X_train_counts,y_train)"
   ]
  },
  {
   "cell_type": "code",
   "execution_count": 15,
   "metadata": {},
   "outputs": [],
   "source": [
    "y_pred = clf.predict(cv.transform(X_test))"
   ]
  },
  {
   "cell_type": "code",
   "execution_count": 16,
   "metadata": {},
   "outputs": [
    {
     "name": "stdout",
     "output_type": "stream",
     "text": [
      "                    precision    recall  f1-score   support\n",
      "\n",
      "      Event-Driven       0.86      0.75      0.80         8\n",
      "      State-Driven       0.33      1.00      0.50         1\n",
      "        Ubiquitous       0.75      0.75      0.75         4\n",
      "Unwanted Behaviour       0.00      0.00      0.00         1\n",
      "\n",
      "          accuracy                           0.71        14\n",
      "         macro avg       0.49      0.62      0.51        14\n",
      "      weighted avg       0.73      0.71      0.71        14\n",
      "\n"
     ]
    },
    {
     "name": "stderr",
     "output_type": "stream",
     "text": [
      "E:\\Anaconda_Python\\lib\\site-packages\\sklearn\\metrics\\_classification.py:1221: UndefinedMetricWarning: Precision and F-score are ill-defined and being set to 0.0 in labels with no predicted samples. Use `zero_division` parameter to control this behavior.\n",
      "  _warn_prf(average, modifier, msg_start, len(result))\n"
     ]
    }
   ],
   "source": [
    "print(metrics.classification_report(y_test,y_pred))"
   ]
  },
  {
   "cell_type": "code",
   "execution_count": 17,
   "metadata": {},
   "outputs": [
    {
     "name": "stdout",
     "output_type": "stream",
     "text": [
      "Model Accuracy :  71.42857142857143\n"
     ]
    }
   ],
   "source": [
    "print(\"Model Accuracy : \", metrics.accuracy_score(y_test,y_pred)*100)"
   ]
  },
  {
   "cell_type": "markdown",
   "metadata": {},
   "source": [
    "# Decision Tree Classifier"
   ]
  },
  {
   "cell_type": "code",
   "execution_count": 18,
   "metadata": {},
   "outputs": [],
   "source": [
    "from sklearn import tree\n",
    "clf = tree.DecisionTreeClassifier()\n",
    "clf = clf.fit(X_train_counts,y_train)"
   ]
  },
  {
   "cell_type": "code",
   "execution_count": 19,
   "metadata": {},
   "outputs": [],
   "source": [
    "y_pred = clf.predict(cv.transform(X_test))"
   ]
  },
  {
   "cell_type": "code",
   "execution_count": 20,
   "metadata": {},
   "outputs": [
    {
     "name": "stdout",
     "output_type": "stream",
     "text": [
      "                    precision    recall  f1-score   support\n",
      "\n",
      "      Event-Driven       0.80      0.50      0.62         8\n",
      "      State-Driven       0.00      0.00      0.00         1\n",
      "        Ubiquitous       0.33      0.75      0.46         4\n",
      "Unwanted Behaviour       0.00      0.00      0.00         1\n",
      "\n",
      "          accuracy                           0.50        14\n",
      "         macro avg       0.28      0.31      0.27        14\n",
      "      weighted avg       0.55      0.50      0.48        14\n",
      "\n"
     ]
    },
    {
     "name": "stderr",
     "output_type": "stream",
     "text": [
      "E:\\Anaconda_Python\\lib\\site-packages\\sklearn\\metrics\\_classification.py:1221: UndefinedMetricWarning: Precision and F-score are ill-defined and being set to 0.0 in labels with no predicted samples. Use `zero_division` parameter to control this behavior.\n",
      "  _warn_prf(average, modifier, msg_start, len(result))\n"
     ]
    }
   ],
   "source": [
    "print(metrics.classification_report(y_test,y_pred))"
   ]
  },
  {
   "cell_type": "code",
   "execution_count": 21,
   "metadata": {},
   "outputs": [
    {
     "name": "stdout",
     "output_type": "stream",
     "text": [
      "Model Accuracy :  50.0\n"
     ]
    }
   ],
   "source": [
    "print(\"Model Accuracy : \", metrics.accuracy_score(y_test,y_pred)*100)"
   ]
  },
  {
   "cell_type": "markdown",
   "metadata": {},
   "source": [
    "# Support Vector Machine Classifier"
   ]
  },
  {
   "cell_type": "code",
   "execution_count": 22,
   "metadata": {},
   "outputs": [],
   "source": [
    "from sklearn.svm import SVC\n",
    "classifier = SVC()\n",
    "clf = classifier.fit(X_train_counts,y_train)"
   ]
  },
  {
   "cell_type": "code",
   "execution_count": 23,
   "metadata": {},
   "outputs": [],
   "source": [
    "y_pred = clf.predict(cv.transform(X_test))"
   ]
  },
  {
   "cell_type": "code",
   "execution_count": 24,
   "metadata": {},
   "outputs": [
    {
     "name": "stdout",
     "output_type": "stream",
     "text": [
      "                    precision    recall  f1-score   support\n",
      "\n",
      "      Event-Driven       0.73      1.00      0.84         8\n",
      "      State-Driven       0.00      0.00      0.00         1\n",
      "        Ubiquitous       1.00      0.75      0.86         4\n",
      "Unwanted Behaviour       0.00      0.00      0.00         1\n",
      "\n",
      "          accuracy                           0.79        14\n",
      "         macro avg       0.43      0.44      0.42        14\n",
      "      weighted avg       0.70      0.79      0.73        14\n",
      "\n"
     ]
    }
   ],
   "source": [
    "print(metrics.classification_report(y_test,y_pred))"
   ]
  },
  {
   "cell_type": "code",
   "execution_count": 25,
   "metadata": {},
   "outputs": [
    {
     "name": "stdout",
     "output_type": "stream",
     "text": [
      "Model Accuracy :  78.57142857142857\n"
     ]
    }
   ],
   "source": [
    "print(\"Model Accuracy : \", metrics.accuracy_score(y_test,y_pred)*100)"
   ]
  },
  {
   "cell_type": "markdown",
   "metadata": {},
   "source": [
    "# Linear Model Classifier"
   ]
  },
  {
   "cell_type": "code",
   "execution_count": 26,
   "metadata": {},
   "outputs": [],
   "source": [
    "from sklearn.linear_model import LogisticRegression\n",
    "classifier = LogisticRegression()\n",
    "clf = classifier.fit(X_train_counts,y_train)"
   ]
  },
  {
   "cell_type": "code",
   "execution_count": 27,
   "metadata": {},
   "outputs": [],
   "source": [
    "y_pred = clf.predict(cv.transform(X_test))"
   ]
  },
  {
   "cell_type": "code",
   "execution_count": 30,
   "metadata": {},
   "outputs": [
    {
     "name": "stdout",
     "output_type": "stream",
     "text": [
      "                    precision    recall  f1-score   support\n",
      "\n",
      "      Event-Driven       1.00      0.75      0.86         8\n",
      "      State-Driven       0.50      1.00      0.67         1\n",
      "        Ubiquitous       0.67      1.00      0.80         4\n",
      "Unwanted Behaviour       0.00      0.00      0.00         1\n",
      "\n",
      "          accuracy                           0.79        14\n",
      "         macro avg       0.54      0.69      0.58        14\n",
      "      weighted avg       0.80      0.79      0.77        14\n",
      "\n"
     ]
    }
   ],
   "source": [
    "print(metrics.classification_report(y_test,y_pred))"
   ]
  },
  {
   "cell_type": "code",
   "execution_count": 31,
   "metadata": {},
   "outputs": [
    {
     "name": "stdout",
     "output_type": "stream",
     "text": [
      "Model Accuracy :  78.57142857142857\n"
     ]
    }
   ],
   "source": [
    "print(\"Model Accuracy : \", metrics.accuracy_score(y_test,y_pred)*100)"
   ]
  },
  {
   "cell_type": "markdown",
   "metadata": {},
   "source": [
    "# Summary of Results"
   ]
  },
  {
   "cell_type": "code",
   "execution_count": null,
   "metadata": {},
   "outputs": [],
   "source": [
    "Naive_bayes = 71.42%\n",
    "K-NearestNeighbor = 64.28%\n",
    "SVM =  78.57%\n",
    "Decision Tree = 50.0%\n",
    "linear_model = 78.57%"
   ]
  }
 ],
 "metadata": {
  "kernelspec": {
   "display_name": "Python 3",
   "language": "python",
   "name": "python3"
  },
  "language_info": {
   "codemirror_mode": {
    "name": "ipython",
    "version": 3
   },
   "file_extension": ".py",
   "mimetype": "text/x-python",
   "name": "python",
   "nbconvert_exporter": "python",
   "pygments_lexer": "ipython3",
   "version": "3.8.5"
  }
 },
 "nbformat": 4,
 "nbformat_minor": 4
}
